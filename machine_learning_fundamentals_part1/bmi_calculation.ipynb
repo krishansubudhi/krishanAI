{
 "cells": [
  {
   "cell_type": "markdown",
   "metadata": {},
   "source": [
    "Download data from \n",
    "https://www.kaggle.com/freego1/bmi-data"
   ]
  },
  {
   "cell_type": "code",
   "execution_count": 1,
   "metadata": {},
   "outputs": [
    {
     "name": "stdout",
     "output_type": "stream",
     "text": [
      "Sex,Age,Height(Inches),Weight(Pounds),BMI\n",
      "Female,21,65.78331,112.9925,18.35764628\n",
      "Female,35,71.51521,136.4873,18.76265227\n"
     ]
    }
   ],
   "source": [
    "data_file = 'datasets_420115_802391_bmi_data.csv'\n",
    "!powershell cat $data_file -First 3"
   ]
  },
  {
   "cell_type": "code",
   "execution_count": 2,
   "metadata": {},
   "outputs": [],
   "source": [
    "import numpy as np\n",
    "import pandas as pd\n",
    "import matplotlib.pyplot as plt\n",
    "plt.style.use('ggplot')"
   ]
  },
  {
   "cell_type": "markdown",
   "metadata": {},
   "source": [
    "# Load data and analyse"
   ]
  },
  {
   "cell_type": "code",
   "execution_count": 3,
   "metadata": {},
   "outputs": [
    {
     "data": {
      "text/html": [
       "<div>\n",
       "<style scoped>\n",
       "    .dataframe tbody tr th:only-of-type {\n",
       "        vertical-align: middle;\n",
       "    }\n",
       "\n",
       "    .dataframe tbody tr th {\n",
       "        vertical-align: top;\n",
       "    }\n",
       "\n",
       "    .dataframe thead th {\n",
       "        text-align: right;\n",
       "    }\n",
       "</style>\n",
       "<table border=\"1\" class=\"dataframe\">\n",
       "  <thead>\n",
       "    <tr style=\"text-align: right;\">\n",
       "      <th></th>\n",
       "      <th>Sex</th>\n",
       "      <th>Age</th>\n",
       "      <th>Height</th>\n",
       "      <th>Weight</th>\n",
       "      <th>BMI</th>\n",
       "    </tr>\n",
       "  </thead>\n",
       "  <tbody>\n",
       "    <tr>\n",
       "      <th>0</th>\n",
       "      <td>Female</td>\n",
       "      <td>21</td>\n",
       "      <td>65.78331</td>\n",
       "      <td>112.9925</td>\n",
       "      <td>18.357646</td>\n",
       "    </tr>\n",
       "    <tr>\n",
       "      <th>1</th>\n",
       "      <td>Female</td>\n",
       "      <td>35</td>\n",
       "      <td>71.51521</td>\n",
       "      <td>136.4873</td>\n",
       "      <td>18.762652</td>\n",
       "    </tr>\n",
       "    <tr>\n",
       "      <th>2</th>\n",
       "      <td>Female</td>\n",
       "      <td>27</td>\n",
       "      <td>69.39874</td>\n",
       "      <td>153.0269</td>\n",
       "      <td>22.338985</td>\n",
       "    </tr>\n",
       "    <tr>\n",
       "      <th>3</th>\n",
       "      <td>Male</td>\n",
       "      <td>24</td>\n",
       "      <td>68.21660</td>\n",
       "      <td>142.3354</td>\n",
       "      <td>21.504612</td>\n",
       "    </tr>\n",
       "    <tr>\n",
       "      <th>4</th>\n",
       "      <td>Female</td>\n",
       "      <td>18</td>\n",
       "      <td>67.78781</td>\n",
       "      <td>144.2971</td>\n",
       "      <td>22.077669</td>\n",
       "    </tr>\n",
       "  </tbody>\n",
       "</table>\n",
       "</div>"
      ],
      "text/plain": [
       "      Sex  Age    Height    Weight        BMI\n",
       "0  Female   21  65.78331  112.9925  18.357646\n",
       "1  Female   35  71.51521  136.4873  18.762652\n",
       "2  Female   27  69.39874  153.0269  22.338985\n",
       "3    Male   24  68.21660  142.3354  21.504612\n",
       "4  Female   18  67.78781  144.2971  22.077669"
      ]
     },
     "execution_count": 3,
     "metadata": {},
     "output_type": "execute_result"
    }
   ],
   "source": [
    "df = pd.read_csv(data_file)\n",
    "df.columns = ['Sex','Age','Height','Weight',\"BMI\"]\n",
    "\n",
    "#Drop missing rows\n",
    "df = df.dropna()\n",
    "\n",
    "df.head(5)"
   ]
  },
  {
   "cell_type": "code",
   "execution_count": 4,
   "metadata": {},
   "outputs": [
    {
     "data": {
      "text/html": [
       "<div>\n",
       "<style scoped>\n",
       "    .dataframe tbody tr th:only-of-type {\n",
       "        vertical-align: middle;\n",
       "    }\n",
       "\n",
       "    .dataframe tbody tr th {\n",
       "        vertical-align: top;\n",
       "    }\n",
       "\n",
       "    .dataframe thead th {\n",
       "        text-align: right;\n",
       "    }\n",
       "</style>\n",
       "<table border=\"1\" class=\"dataframe\">\n",
       "  <thead>\n",
       "    <tr style=\"text-align: right;\">\n",
       "      <th></th>\n",
       "      <th>Age</th>\n",
       "      <th>Height</th>\n",
       "      <th>Weight</th>\n",
       "      <th>BMI</th>\n",
       "    </tr>\n",
       "  </thead>\n",
       "  <tbody>\n",
       "    <tr>\n",
       "      <th>count</th>\n",
       "      <td>24950.000000</td>\n",
       "      <td>24950.000000</td>\n",
       "      <td>24950.000000</td>\n",
       "      <td>24950.000000</td>\n",
       "    </tr>\n",
       "    <tr>\n",
       "      <th>mean</th>\n",
       "      <td>26.497836</td>\n",
       "      <td>67.992821</td>\n",
       "      <td>127.077390</td>\n",
       "      <td>19.321368</td>\n",
       "    </tr>\n",
       "    <tr>\n",
       "      <th>std</th>\n",
       "      <td>5.190667</td>\n",
       "      <td>1.901551</td>\n",
       "      <td>11.663509</td>\n",
       "      <td>1.552091</td>\n",
       "    </tr>\n",
       "    <tr>\n",
       "      <th>min</th>\n",
       "      <td>18.000000</td>\n",
       "      <td>60.278360</td>\n",
       "      <td>78.014760</td>\n",
       "      <td>13.070879</td>\n",
       "    </tr>\n",
       "    <tr>\n",
       "      <th>25%</th>\n",
       "      <td>22.000000</td>\n",
       "      <td>66.704955</td>\n",
       "      <td>119.307525</td>\n",
       "      <td>18.278339</td>\n",
       "    </tr>\n",
       "    <tr>\n",
       "      <th>50%</th>\n",
       "      <td>27.000000</td>\n",
       "      <td>67.995700</td>\n",
       "      <td>127.152500</td>\n",
       "      <td>19.302160</td>\n",
       "    </tr>\n",
       "    <tr>\n",
       "      <th>75%</th>\n",
       "      <td>31.000000</td>\n",
       "      <td>69.271822</td>\n",
       "      <td>134.893550</td>\n",
       "      <td>20.357547</td>\n",
       "    </tr>\n",
       "    <tr>\n",
       "      <th>max</th>\n",
       "      <td>35.000000</td>\n",
       "      <td>75.152800</td>\n",
       "      <td>170.924000</td>\n",
       "      <td>26.023756</td>\n",
       "    </tr>\n",
       "  </tbody>\n",
       "</table>\n",
       "</div>"
      ],
      "text/plain": [
       "                Age        Height        Weight           BMI\n",
       "count  24950.000000  24950.000000  24950.000000  24950.000000\n",
       "mean      26.497836     67.992821    127.077390     19.321368\n",
       "std        5.190667      1.901551     11.663509      1.552091\n",
       "min       18.000000     60.278360     78.014760     13.070879\n",
       "25%       22.000000     66.704955    119.307525     18.278339\n",
       "50%       27.000000     67.995700    127.152500     19.302160\n",
       "75%       31.000000     69.271822    134.893550     20.357547\n",
       "max       35.000000     75.152800    170.924000     26.023756"
      ]
     },
     "execution_count": 4,
     "metadata": {},
     "output_type": "execute_result"
    }
   ],
   "source": [
    "#Get an overview of data\n",
    "df.describe()"
   ]
  },
  {
   "cell_type": "code",
   "execution_count": 5,
   "metadata": {},
   "outputs": [
    {
     "data": {
      "image/png": "[encoded data removed]",
      "text/plain": [
       "<Figure size 432x288 with 1 Axes>"
      ]
     },
     "metadata": {},
     "output_type": "display_data"
    }
   ],
   "source": [
    "colors = [( 1- (BMI-13)/14,0,0) for BMI in df.BMI.values]\n",
    "fig,ax = plt.subplots()\n",
    "ax.scatter(df['Weight'].values,df['Height'].values,c = colors, picker = True)\n",
    "ax.set_xlabel('Weight')\n",
    "ax.set_ylabel('Height')\n",
    "_ = ax.set_title('BMI distribution')"
   ]
  },
  {
   "cell_type": "markdown",
   "metadata": {},
   "source": [
    "darker = higher BMI\n",
    "\n",
    "* BMI is increasing with weight if height is kept constant. \n",
    "* BMI is decreasing with height if weight is kept constant. \n",
    "\n",
    "This means a linear model might represent BMI pretty well. \n",
    "\n",
    "TODO: DO similar analysis with Age"
   ]
  },
  {
   "cell_type": "markdown",
   "metadata": {},
   "source": [
    "# Train a linear model to predict BMI based on age, height and weights\n",
    "We are assuming that \n",
    "\n",
    "BMI = W1 * height + W2 * weight + w3 * age +bias"
   ]
  },
  {
   "cell_type": "markdown",
   "metadata": {},
   "source": [
    "### Split into train and validation "
   ]
  },
  {
   "cell_type": "code",
   "execution_count": 6,
   "metadata": {},
   "outputs": [
    {
     "name": "stdout",
     "output_type": "stream",
     "text": [
      "train = 19960,\n",
      "validation = 4990\n"
     ]
    }
   ],
   "source": [
    "train_pct = 0.8\n",
    "train_index = int(len(df)*train_pct)\n",
    "\n",
    "train_data = df.iloc[:train_index].copy()\n",
    "validation_data = df.iloc[train_index:].copy()\n",
    "print(f'train = {len(train_data)},\\nvalidation = {len(validation_data)}')"
   ]
  },
  {
   "cell_type": "markdown",
   "metadata": {},
   "source": [
    "## Random initialization of weights\n",
    "From standard normal distribution"
   ]
  },
  {
   "cell_type": "code",
   "execution_count": 7,
   "metadata": {},
   "outputs": [
    {
     "name": "stdout",
     "output_type": "stream",
     "text": [
      "w1 = -0.6045801188774028,\n",
      "w2 = 0.10795384262364494,\n",
      "w3 = -0.8439392671162198,\n",
      "bias = 1.275017789978163\n"
     ]
    }
   ],
   "source": [
    "def reset():\n",
    "    global w1,w2,w3,bias\n",
    "    w1  = np.random.randn()\n",
    "    w2  = np.random.randn()\n",
    "    w3  = np.random.randn()\n",
    "    bias  = np.random.randn()\n",
    "\n",
    "reset()\n",
    "\n",
    "print_weight = lambda : print('w1 = {},\\nw2 = {},\\nw3 = {},\\nbias = {}'.format(w1,w2,w3,bias))\n",
    "print_weight()"
   ]
  },
  {
   "cell_type": "markdown",
   "metadata": {},
   "source": [
    "## Normalize features\n",
    "\n",
    "Modify input features and output BMI to have\n",
    "\n",
    "mean=0\n",
    "\n",
    "standard deviation = 1"
   ]
  },
  {
   "cell_type": "code",
   "execution_count": 8,
   "metadata": {},
   "outputs": [],
   "source": [
    "def normalize(df, means, stds):\n",
    "    #print(means)\n",
    "    df['Weight'] = (df['Weight'] - means.Weight)/stds.Weight\n",
    "    df['Height'] = (df['Height'] - means.Height)/stds.Height\n",
    "    df['Age'] = (df['Age'] - means.Age)/stds.Age\n",
    "    if 'BMI' in df.columns:\n",
    "        df['BMI'] = (df['BMI'] - means.BMI)/stds.BMI\n",
    "    df.head()\n",
    "\n",
    "def de_normalize(df, means, stds):\n",
    "    #print(means)\n",
    "    df = df.copy()\n",
    "    df['Weight'] = df['Weight'] *stds.Weight + means.Weight\n",
    "    df['Height'] = df['Height'] *stds.Height + means.Height\n",
    "    df['Age'] = df['Age'] *stds.Age + means.Age\n",
    "    if 'BMI' in df.columns:\n",
    "        df['BMI'] = df['BMI'] *stds.BMI + means.BMI\n",
    "    if 'predictionBMI' in df.columns:\n",
    "        df['predictionBMI'] = df['predictionBMI'] *stds.BMI + means.BMI\n",
    "        \n",
    "    return df"
   ]
  },
  {
   "cell_type": "code",
   "execution_count": 9,
   "metadata": {},
   "outputs": [
    {
     "name": "stdout",
     "output_type": "stream",
     "text": [
      "Normalized train data\n"
     ]
    },
    {
     "data": {
      "text/html": [
       "<div>\n",
       "<style scoped>\n",
       "    .dataframe tbody tr th:only-of-type {\n",
       "        vertical-align: middle;\n",
       "    }\n",
       "\n",
       "    .dataframe tbody tr th {\n",
       "        vertical-align: top;\n",
       "    }\n",
       "\n",
       "    .dataframe thead th {\n",
       "        text-align: right;\n",
       "    }\n",
       "</style>\n",
       "<table border=\"1\" class=\"dataframe\">\n",
       "  <thead>\n",
       "    <tr style=\"text-align: right;\">\n",
       "      <th></th>\n",
       "      <th>Sex</th>\n",
       "      <th>Age</th>\n",
       "      <th>Height</th>\n",
       "      <th>Weight</th>\n",
       "      <th>BMI</th>\n",
       "    </tr>\n",
       "  </thead>\n",
       "  <tbody>\n",
       "    <tr>\n",
       "      <th>0</th>\n",
       "      <td>Female</td>\n",
       "      <td>-1.058240</td>\n",
       "      <td>-1.156857</td>\n",
       "      <td>-1.209125</td>\n",
       "      <td>-0.624275</td>\n",
       "    </tr>\n",
       "    <tr>\n",
       "      <th>1</th>\n",
       "      <td>Female</td>\n",
       "      <td>1.635609</td>\n",
       "      <td>1.853540</td>\n",
       "      <td>0.805210</td>\n",
       "      <td>-0.363773</td>\n",
       "    </tr>\n",
       "    <tr>\n",
       "      <th>2</th>\n",
       "      <td>Female</td>\n",
       "      <td>0.096267</td>\n",
       "      <td>0.741969</td>\n",
       "      <td>2.223239</td>\n",
       "      <td>1.936542</td>\n",
       "    </tr>\n",
       "    <tr>\n",
       "      <th>3</th>\n",
       "      <td>Male</td>\n",
       "      <td>-0.480987</td>\n",
       "      <td>0.121108</td>\n",
       "      <td>1.306599</td>\n",
       "      <td>1.399869</td>\n",
       "    </tr>\n",
       "    <tr>\n",
       "      <th>4</th>\n",
       "      <td>Female</td>\n",
       "      <td>-1.635493</td>\n",
       "      <td>-0.104092</td>\n",
       "      <td>1.474786</td>\n",
       "      <td>1.768462</td>\n",
       "    </tr>\n",
       "  </tbody>\n",
       "</table>\n",
       "</div>"
      ],
      "text/plain": [
       "      Sex       Age    Height    Weight       BMI\n",
       "0  Female -1.058240 -1.156857 -1.209125 -0.624275\n",
       "1  Female  1.635609  1.853540  0.805210 -0.363773\n",
       "2  Female  0.096267  0.741969  2.223239  1.936542\n",
       "3    Male -0.480987  0.121108  1.306599  1.399869\n",
       "4  Female -1.635493 -0.104092  1.474786  1.768462"
      ]
     },
     "execution_count": 9,
     "metadata": {},
     "output_type": "execute_result"
    }
   ],
   "source": [
    "means = train_data.mean()\n",
    "stds = train_data.std()\n",
    "normalize(train_data,means,stds)\n",
    "print('Normalized train data')\n",
    "train_data.head()"
   ]
  },
  {
   "cell_type": "code",
   "execution_count": 10,
   "metadata": {},
   "outputs": [
    {
     "name": "stdout",
     "output_type": "stream",
     "text": [
      "Normalized test data\n"
     ]
    },
    {
     "data": {
      "text/html": [
       "<div>\n",
       "<style scoped>\n",
       "    .dataframe tbody tr th:only-of-type {\n",
       "        vertical-align: middle;\n",
       "    }\n",
       "\n",
       "    .dataframe tbody tr th {\n",
       "        vertical-align: top;\n",
       "    }\n",
       "\n",
       "    .dataframe thead th {\n",
       "        text-align: right;\n",
       "    }\n",
       "</style>\n",
       "<table border=\"1\" class=\"dataframe\">\n",
       "  <thead>\n",
       "    <tr style=\"text-align: right;\">\n",
       "      <th></th>\n",
       "      <th>Sex</th>\n",
       "      <th>Age</th>\n",
       "      <th>Height</th>\n",
       "      <th>Weight</th>\n",
       "      <th>BMI</th>\n",
       "    </tr>\n",
       "  </thead>\n",
       "  <tbody>\n",
       "    <tr>\n",
       "      <th>19969</th>\n",
       "      <td>Male</td>\n",
       "      <td>1.443191</td>\n",
       "      <td>0.904377</td>\n",
       "      <td>0.045355</td>\n",
       "      <td>-0.554713</td>\n",
       "    </tr>\n",
       "    <tr>\n",
       "      <th>19970</th>\n",
       "      <td>Male</td>\n",
       "      <td>-0.480987</td>\n",
       "      <td>-0.007303</td>\n",
       "      <td>-1.170544</td>\n",
       "      <td>-1.328435</td>\n",
       "    </tr>\n",
       "    <tr>\n",
       "      <th>19971</th>\n",
       "      <td>Female</td>\n",
       "      <td>1.058356</td>\n",
       "      <td>-1.116174</td>\n",
       "      <td>-2.472839</td>\n",
       "      <td>-2.188713</td>\n",
       "    </tr>\n",
       "    <tr>\n",
       "      <th>19972</th>\n",
       "      <td>Female</td>\n",
       "      <td>-0.865822</td>\n",
       "      <td>-1.553987</td>\n",
       "      <td>-0.167397</td>\n",
       "      <td>0.951357</td>\n",
       "    </tr>\n",
       "    <tr>\n",
       "      <th>19973</th>\n",
       "      <td>Female</td>\n",
       "      <td>1.443191</td>\n",
       "      <td>0.263049</td>\n",
       "      <td>1.399588</td>\n",
       "      <td>1.395488</td>\n",
       "    </tr>\n",
       "  </tbody>\n",
       "</table>\n",
       "</div>"
      ],
      "text/plain": [
       "          Sex       Age    Height    Weight       BMI\n",
       "19969    Male  1.443191  0.904377  0.045355 -0.554713\n",
       "19970    Male -0.480987 -0.007303 -1.170544 -1.328435\n",
       "19971  Female  1.058356 -1.116174 -2.472839 -2.188713\n",
       "19972  Female -0.865822 -1.553987 -0.167397  0.951357\n",
       "19973  Female  1.443191  0.263049  1.399588  1.395488"
      ]
     },
     "execution_count": 10,
     "metadata": {},
     "output_type": "execute_result"
    }
   ],
   "source": [
    "normalize(validation_data,means,stds)\n",
    "print('Normalized test data')\n",
    "validation_data.head()"
   ]
  },
  {
   "cell_type": "markdown",
   "metadata": {},
   "source": [
    "# Predict BMI using the linear function"
   ]
  },
  {
   "cell_type": "code",
   "execution_count": 11,
   "metadata": {
    "scrolled": true
   },
   "outputs": [
    {
     "name": "stdout",
     "output_type": "stream",
     "text": [
      "Random weights predictions\n"
     ]
    },
    {
     "data": {
      "text/html": [
       "<div>\n",
       "<style scoped>\n",
       "    .dataframe tbody tr th:only-of-type {\n",
       "        vertical-align: middle;\n",
       "    }\n",
       "\n",
       "    .dataframe tbody tr th {\n",
       "        vertical-align: top;\n",
       "    }\n",
       "\n",
       "    .dataframe thead th {\n",
       "        text-align: right;\n",
       "    }\n",
       "</style>\n",
       "<table border=\"1\" class=\"dataframe\">\n",
       "  <thead>\n",
       "    <tr style=\"text-align: right;\">\n",
       "      <th></th>\n",
       "      <th>Sex</th>\n",
       "      <th>Age</th>\n",
       "      <th>Height</th>\n",
       "      <th>Weight</th>\n",
       "      <th>BMI</th>\n",
       "      <th>predictionBMI</th>\n",
       "    </tr>\n",
       "  </thead>\n",
       "  <tbody>\n",
       "    <tr>\n",
       "      <th>0</th>\n",
       "      <td>Female</td>\n",
       "      <td>-1.058240</td>\n",
       "      <td>-1.156857</td>\n",
       "      <td>-1.209125</td>\n",
       "      <td>-0.624275</td>\n",
       "      <td>2.736991</td>\n",
       "    </tr>\n",
       "    <tr>\n",
       "      <th>1</th>\n",
       "      <td>Female</td>\n",
       "      <td>1.635609</td>\n",
       "      <td>1.853540</td>\n",
       "      <td>0.805210</td>\n",
       "      <td>-0.363773</td>\n",
       "      <td>-1.139025</td>\n",
       "    </tr>\n",
       "    <tr>\n",
       "      <th>2</th>\n",
       "      <td>Female</td>\n",
       "      <td>0.096267</td>\n",
       "      <td>0.741969</td>\n",
       "      <td>2.223239</td>\n",
       "      <td>1.936542</td>\n",
       "      <td>0.985202</td>\n",
       "    </tr>\n",
       "    <tr>\n",
       "      <th>3</th>\n",
       "      <td>Male</td>\n",
       "      <td>-0.480987</td>\n",
       "      <td>0.121108</td>\n",
       "      <td>1.306599</td>\n",
       "      <td>1.399869</td>\n",
       "      <td>1.748774</td>\n",
       "    </tr>\n",
       "    <tr>\n",
       "      <th>4</th>\n",
       "      <td>Female</td>\n",
       "      <td>-1.635493</td>\n",
       "      <td>-0.104092</td>\n",
       "      <td>1.474786</td>\n",
       "      <td>1.768462</td>\n",
       "      <td>2.877416</td>\n",
       "    </tr>\n",
       "  </tbody>\n",
       "</table>\n",
       "</div>"
      ],
      "text/plain": [
       "      Sex       Age    Height    Weight       BMI  predictionBMI\n",
       "0  Female -1.058240 -1.156857 -1.209125 -0.624275       2.736991\n",
       "1  Female  1.635609  1.853540  0.805210 -0.363773      -1.139025\n",
       "2  Female  0.096267  0.741969  2.223239  1.936542       0.985202\n",
       "3    Male -0.480987  0.121108  1.306599  1.399869       1.748774\n",
       "4  Female -1.635493 -0.104092  1.474786  1.768462       2.877416"
      ]
     },
     "execution_count": 11,
     "metadata": {},
     "output_type": "execute_result"
    }
   ],
   "source": [
    "def predict_BMI(df):\n",
    "    pred = w1 * df['Height'] + w2 *df['Weight'] + w3 * df['Age'] + bias \n",
    "    df['predictionBMI'] = pred\n",
    "    return df\n",
    "\n",
    "\n",
    "print('Random weights predictions')\n",
    "preddf = predict_BMI(train_data)\n",
    "preddf.head()"
   ]
  },
  {
   "cell_type": "markdown",
   "metadata": {},
   "source": [
    "## Loss function\n",
    "Mean squared error - squared difference between predictionBMI and actual BMI"
   ]
  },
  {
   "cell_type": "code",
   "execution_count": 12,
   "metadata": {},
   "outputs": [
    {
     "name": "stdout",
     "output_type": "stream",
     "text": [
      "loss =  3.336599397799785\n"
     ]
    }
   ],
   "source": [
    "def calculate_loss(df):\n",
    "    return np.square(df['predictionBMI'] - df['BMI'])\n",
    "\n",
    "preddf = predict_BMI(train_data)\n",
    "print('loss = ', calculate_loss(preddf).mean())"
   ]
  },
  {
   "cell_type": "markdown",
   "metadata": {},
   "source": [
    "The goal is to get zero loss"
   ]
  },
  {
   "cell_type": "markdown",
   "metadata": {},
   "source": [
    "## Gradient descent\n",
    "\n",
    "Minimizes mean square error by updating weights and bias based on gradient\n",
    "\n",
    "BMI = W1 * height + W2 * weight + w3 * age +bias\n",
    "\n",
    "loss = (BMI -actualBMI)^2\n",
    "\n",
    "d(loss)/d(w1) = 2 (BMI-actualBMI) * height\n",
    "\n",
    "d(loss)/d(w2) = 2 (BMI-actualBMI) * weight\n",
    "\n",
    "d(loss)/d(w3) = 2 (BMI-actualBMI) * age\n",
    "\n",
    "d(loss)/d(bias) = 2 (BMI-actualBMI)\n",
    "\n",
    "\n",
    "\n",
    "w = w - dw * learning_rate"
   ]
  },
  {
   "cell_type": "code",
   "execution_count": 13,
   "metadata": {},
   "outputs": [],
   "source": [
    "def calculate_gradients(df):\n",
    "    diff = df['predictionBMI'] - df['BMI']\n",
    "    dw1 = 2 * diff *df['Height']\n",
    "    dw2 = 2 * diff *df['Weight']\n",
    "    dw3 = 2 * diff *df['Age']\n",
    "    dbias = 2* diff\n",
    "    dw1,dw2,dw3 , dbias  =  dw1.values.mean(),dw2.values.mean(),dw3.values.mean(),dbias.values.mean()\n",
    "    #print(dw1,dw2,dw3 , dbias) \n",
    "    return dw1,dw2,dw3 , dbias "
   ]
  },
  {
   "cell_type": "code",
   "execution_count": 14,
   "metadata": {},
   "outputs": [],
   "source": [
    "def train(learning_rate = 0.01):\n",
    "    global w1, w2, w3, bias, preddf\n",
    "    dw1,dw2,dw3 , dbias = calculate_gradients(preddf)\n",
    "    w1 = w1 - dw1*learning_rate \n",
    "    w2 = w2 - dw2 * learning_rate \n",
    "    w3 = w3 - dw3 * learning_rate \n",
    "    bias = bias - dbias.mean() * learning_rate \n",
    "    #print(w1, w2, w3, bias)\n",
    "    preddf = predict_BMI(train_data)\n",
    "    return calculate_loss(preddf).mean()"
   ]
  },
  {
   "cell_type": "code",
   "execution_count": 15,
   "metadata": {},
   "outputs": [
    {
     "name": "stdout",
     "output_type": "stream",
     "text": [
      "\n",
      "Prediction on validation set before training\n"
     ]
    },
    {
     "data": {
      "text/html": [
       "<div>\n",
       "<style scoped>\n",
       "    .dataframe tbody tr th:only-of-type {\n",
       "        vertical-align: middle;\n",
       "    }\n",
       "\n",
       "    .dataframe tbody tr th {\n",
       "        vertical-align: top;\n",
       "    }\n",
       "\n",
       "    .dataframe thead th {\n",
       "        text-align: right;\n",
       "    }\n",
       "</style>\n",
       "<table border=\"1\" class=\"dataframe\">\n",
       "  <thead>\n",
       "    <tr style=\"text-align: right;\">\n",
       "      <th></th>\n",
       "      <th>Sex</th>\n",
       "      <th>Age</th>\n",
       "      <th>Height</th>\n",
       "      <th>Weight</th>\n",
       "      <th>BMI</th>\n",
       "      <th>predictionBMI</th>\n",
       "    </tr>\n",
       "  </thead>\n",
       "  <tbody>\n",
       "    <tr>\n",
       "      <th>19969</th>\n",
       "      <td>Male</td>\n",
       "      <td>34.0</td>\n",
       "      <td>69.70797</td>\n",
       "      <td>127.6245</td>\n",
       "      <td>18.465795</td>\n",
       "      <td>18.574460</td>\n",
       "    </tr>\n",
       "    <tr>\n",
       "      <th>19970</th>\n",
       "      <td>Male</td>\n",
       "      <td>24.0</td>\n",
       "      <td>67.97210</td>\n",
       "      <td>113.4425</td>\n",
       "      <td>17.262879</td>\n",
       "      <td>21.752002</td>\n",
       "    </tr>\n",
       "    <tr>\n",
       "      <th>19971</th>\n",
       "      <td>Female</td>\n",
       "      <td>32.0</td>\n",
       "      <td>65.86077</td>\n",
       "      <td>98.2528</td>\n",
       "      <td>15.925393</td>\n",
       "      <td>20.555965</td>\n",
       "    </tr>\n",
       "    <tr>\n",
       "      <th>19972</th>\n",
       "      <td>Female</td>\n",
       "      <td>22.0</td>\n",
       "      <td>65.02716</td>\n",
       "      <td>125.1430</td>\n",
       "      <td>20.807304</td>\n",
       "      <td>23.879109</td>\n",
       "    </tr>\n",
       "    <tr>\n",
       "      <th>19973</th>\n",
       "      <td>Female</td>\n",
       "      <td>34.0</td>\n",
       "      <td>68.48686</td>\n",
       "      <td>143.4200</td>\n",
       "      <td>21.497801</td>\n",
       "      <td>19.404566</td>\n",
       "    </tr>\n",
       "    <tr>\n",
       "      <th>19974</th>\n",
       "      <td>Female</td>\n",
       "      <td>32.0</td>\n",
       "      <td>67.99138</td>\n",
       "      <td>125.5912</td>\n",
       "      <td>19.100746</td>\n",
       "      <td>19.897553</td>\n",
       "    </tr>\n",
       "    <tr>\n",
       "      <th>19975</th>\n",
       "      <td>Male</td>\n",
       "      <td>31.0</td>\n",
       "      <td>70.28780</td>\n",
       "      <td>140.5505</td>\n",
       "      <td>20.001903</td>\n",
       "      <td>19.231625</td>\n",
       "    </tr>\n",
       "    <tr>\n",
       "      <th>19976</th>\n",
       "      <td>Male</td>\n",
       "      <td>19.0</td>\n",
       "      <td>67.29468</td>\n",
       "      <td>123.9692</td>\n",
       "      <td>19.246473</td>\n",
       "      <td>23.500236</td>\n",
       "    </tr>\n",
       "    <tr>\n",
       "      <th>19977</th>\n",
       "      <td>Female</td>\n",
       "      <td>25.0</td>\n",
       "      <td>68.26174</td>\n",
       "      <td>113.2655</td>\n",
       "      <td>17.089988</td>\n",
       "      <td>21.354003</td>\n",
       "    </tr>\n",
       "    <tr>\n",
       "      <th>19978</th>\n",
       "      <td>Female</td>\n",
       "      <td>33.0</td>\n",
       "      <td>72.25625</td>\n",
       "      <td>136.0435</td>\n",
       "      <td>18.320013</td>\n",
       "      <td>17.690086</td>\n",
       "    </tr>\n",
       "  </tbody>\n",
       "</table>\n",
       "</div>"
      ],
      "text/plain": [
       "          Sex   Age    Height    Weight        BMI  predictionBMI\n",
       "19969    Male  34.0  69.70797  127.6245  18.465795      18.574460\n",
       "19970    Male  24.0  67.97210  113.4425  17.262879      21.752002\n",
       "19971  Female  32.0  65.86077   98.2528  15.925393      20.555965\n",
       "19972  Female  22.0  65.02716  125.1430  20.807304      23.879109\n",
       "19973  Female  34.0  68.48686  143.4200  21.497801      19.404566\n",
       "19974  Female  32.0  67.99138  125.5912  19.100746      19.897553\n",
       "19975    Male  31.0  70.28780  140.5505  20.001903      19.231625\n",
       "19976    Male  19.0  67.29468  123.9692  19.246473      23.500236\n",
       "19977  Female  25.0  68.26174  113.2655  17.089988      21.354003\n",
       "19978  Female  33.0  72.25625  136.0435  18.320013      17.690086"
      ]
     },
     "execution_count": 15,
     "metadata": {},
     "output_type": "execute_result"
    }
   ],
   "source": [
    "print('\\nPrediction on validation set before training')\n",
    "de_normalize(predict_BMI(validation_data),means,stds).head(10)"
   ]
  },
  {
   "cell_type": "markdown",
   "metadata": {},
   "source": [
    "# Train"
   ]
  },
  {
   "cell_type": "code",
   "execution_count": 16,
   "metadata": {
    "scrolled": true
   },
   "outputs": [
    {
     "data": {
      "application/vnd.jupyter.widget-view+json": {
       "model_id": "fe676494c8564a12b2192a54831ae67c",
       "version_major": 2,
       "version_minor": 0
      },
      "text/plain": [
       "HBox(children=(FloatProgress(value=0.0, max=300.0), HTML(value='')))"
      ]
     },
     "metadata": {},
     "output_type": "display_data"
    },
    {
     "name": "stdout",
     "output_type": "stream",
     "text": [
      "epoch : 0 : loss = 3.1970248350688903\n",
      "epoch : 20 : loss = 1.396833994846574\n",
      "epoch : 40 : loss = 0.6422168339148528\n",
      "epoch : 60 : loss = 0.3111569597070531\n",
      "epoch : 80 : loss = 0.15925415920260616\n",
      "epoch : 100 : loss = 0.08631171042233883\n",
      "epoch : 120 : loss = 0.04960577072567032\n",
      "epoch : 140 : loss = 0.030233627983942815\n",
      "epoch : 160 : loss = 0.019522403936448177\n",
      "epoch : 180 : loss = 0.013339826910477854\n",
      "epoch : 200 : loss = 0.009635765448051078\n",
      "epoch : 220 : loss = 0.007348159638559163\n",
      "epoch : 240 : loss = 0.00590173943168775\n",
      "epoch : 260 : loss = 0.004971098458282015\n",
      "epoch : 280 : loss = 0.004364765614499111\n",
      "\n"
     ]
    }
   ],
   "source": [
    "import time, math\n",
    "from tqdm.notebook import  tqdm\n",
    "\n",
    "learning_rate = 0.01\n",
    "\n",
    "for i in tqdm(range(300)):\n",
    "    loss = train(learning_rate)\n",
    "    time.sleep(0.01)\n",
    "    if i%20 ==0:\n",
    "        print(f'epoch : {i} : loss = {loss}')"
   ]
  },
  {
   "cell_type": "code",
   "execution_count": 17,
   "metadata": {},
   "outputs": [
    {
     "name": "stdout",
     "output_type": "stream",
     "text": [
      "after training\n",
      "w1 = -0.6695476878053365,\n",
      "w2 = 1.1166961828936683,\n",
      "w3 = -0.0027105545901141112,\n",
      "bias = 0.0029739862218655737\n"
     ]
    }
   ],
   "source": [
    "print('after training')\n",
    "print_weight()"
   ]
  },
  {
   "cell_type": "code",
   "execution_count": 18,
   "metadata": {},
   "outputs": [
    {
     "name": "stdout",
     "output_type": "stream",
     "text": [
      "\n",
      "Prediction on validation set after training\n"
     ]
    },
    {
     "data": {
      "text/html": [
       "<div>\n",
       "<style scoped>\n",
       "    .dataframe tbody tr th:only-of-type {\n",
       "        vertical-align: middle;\n",
       "    }\n",
       "\n",
       "    .dataframe tbody tr th {\n",
       "        vertical-align: top;\n",
       "    }\n",
       "\n",
       "    .dataframe thead th {\n",
       "        text-align: right;\n",
       "    }\n",
       "</style>\n",
       "<table border=\"1\" class=\"dataframe\">\n",
       "  <thead>\n",
       "    <tr style=\"text-align: right;\">\n",
       "      <th></th>\n",
       "      <th>Sex</th>\n",
       "      <th>Age</th>\n",
       "      <th>Height</th>\n",
       "      <th>Weight</th>\n",
       "      <th>BMI</th>\n",
       "      <th>predictionBMI</th>\n",
       "    </tr>\n",
       "  </thead>\n",
       "  <tbody>\n",
       "    <tr>\n",
       "      <th>19969</th>\n",
       "      <td>Male</td>\n",
       "      <td>34.0</td>\n",
       "      <td>69.70797</td>\n",
       "      <td>127.6245</td>\n",
       "      <td>18.465795</td>\n",
       "      <td>18.464085</td>\n",
       "    </tr>\n",
       "    <tr>\n",
       "      <th>19970</th>\n",
       "      <td>Male</td>\n",
       "      <td>24.0</td>\n",
       "      <td>67.97210</td>\n",
       "      <td>113.4425</td>\n",
       "      <td>17.262879</td>\n",
       "      <td>17.310236</td>\n",
       "    </tr>\n",
       "    <tr>\n",
       "      <th>19971</th>\n",
       "      <td>Female</td>\n",
       "      <td>32.0</td>\n",
       "      <td>65.86077</td>\n",
       "      <td>98.2528</td>\n",
       "      <td>15.925393</td>\n",
       "      <td>16.197065</td>\n",
       "    </tr>\n",
       "    <tr>\n",
       "      <th>19972</th>\n",
       "      <td>Female</td>\n",
       "      <td>22.0</td>\n",
       "      <td>65.02716</td>\n",
       "      <td>125.1430</td>\n",
       "      <td>20.807304</td>\n",
       "      <td>20.663493</td>\n",
       "    </tr>\n",
       "    <tr>\n",
       "      <th>19973</th>\n",
       "      <td>Female</td>\n",
       "      <td>34.0</td>\n",
       "      <td>68.48686</td>\n",
       "      <td>143.4200</td>\n",
       "      <td>21.497801</td>\n",
       "      <td>21.482821</td>\n",
       "    </tr>\n",
       "    <tr>\n",
       "      <th>19974</th>\n",
       "      <td>Female</td>\n",
       "      <td>32.0</td>\n",
       "      <td>67.99138</td>\n",
       "      <td>125.5912</td>\n",
       "      <td>19.100746</td>\n",
       "      <td>19.101529</td>\n",
       "    </tr>\n",
       "    <tr>\n",
       "      <th>19975</th>\n",
       "      <td>Male</td>\n",
       "      <td>31.0</td>\n",
       "      <td>70.28780</td>\n",
       "      <td>140.5505</td>\n",
       "      <td>20.001903</td>\n",
       "      <td>20.073539</td>\n",
       "    </tr>\n",
       "    <tr>\n",
       "      <th>19976</th>\n",
       "      <td>Male</td>\n",
       "      <td>19.0</td>\n",
       "      <td>67.29468</td>\n",
       "      <td>123.9692</td>\n",
       "      <td>19.246473</td>\n",
       "      <td>19.251531</td>\n",
       "    </tr>\n",
       "    <tr>\n",
       "      <th>19977</th>\n",
       "      <td>Female</td>\n",
       "      <td>25.0</td>\n",
       "      <td>68.26174</td>\n",
       "      <td>113.2655</td>\n",
       "      <td>17.089988</td>\n",
       "      <td>17.124730</td>\n",
       "    </tr>\n",
       "    <tr>\n",
       "      <th>19978</th>\n",
       "      <td>Female</td>\n",
       "      <td>33.0</td>\n",
       "      <td>72.25625</td>\n",
       "      <td>136.0435</td>\n",
       "      <td>18.320013</td>\n",
       "      <td>18.324884</td>\n",
       "    </tr>\n",
       "  </tbody>\n",
       "</table>\n",
       "</div>"
      ],
      "text/plain": [
       "          Sex   Age    Height    Weight        BMI  predictionBMI\n",
       "19969    Male  34.0  69.70797  127.6245  18.465795      18.464085\n",
       "19970    Male  24.0  67.97210  113.4425  17.262879      17.310236\n",
       "19971  Female  32.0  65.86077   98.2528  15.925393      16.197065\n",
       "19972  Female  22.0  65.02716  125.1430  20.807304      20.663493\n",
       "19973  Female  34.0  68.48686  143.4200  21.497801      21.482821\n",
       "19974  Female  32.0  67.99138  125.5912  19.100746      19.101529\n",
       "19975    Male  31.0  70.28780  140.5505  20.001903      20.073539\n",
       "19976    Male  19.0  67.29468  123.9692  19.246473      19.251531\n",
       "19977  Female  25.0  68.26174  113.2655  17.089988      17.124730\n",
       "19978  Female  33.0  72.25625  136.0435  18.320013      18.324884"
      ]
     },
     "execution_count": 18,
     "metadata": {},
     "output_type": "execute_result"
    }
   ],
   "source": [
    "print('\\nPrediction on validation set after training')\n",
    "de_normalize(predict_BMI(validation_data),means,stds).head(10)"
   ]
  },
  {
   "cell_type": "code",
   "execution_count": 19,
   "metadata": {},
   "outputs": [],
   "source": [
    "def predictBMI_real(data):\n",
    "    df = pd.DataFrame(data)\n",
    "    normalize(df,means, stds)\n",
    "    return de_normalize(predict_BMI(df),means, stds)"
   ]
  },
  {
   "cell_type": "markdown",
   "metadata": {},
   "source": [
    "# Using the linear model calculate my BMI"
   ]
  },
  {
   "cell_type": "code",
   "execution_count": 20,
   "metadata": {},
   "outputs": [
    {
     "data": {
      "text/html": [
       "<div>\n",
       "<style scoped>\n",
       "    .dataframe tbody tr th:only-of-type {\n",
       "        vertical-align: middle;\n",
       "    }\n",
       "\n",
       "    .dataframe tbody tr th {\n",
       "        vertical-align: top;\n",
       "    }\n",
       "\n",
       "    .dataframe thead th {\n",
       "        text-align: right;\n",
       "    }\n",
       "</style>\n",
       "<table border=\"1\" class=\"dataframe\">\n",
       "  <thead>\n",
       "    <tr style=\"text-align: right;\">\n",
       "      <th></th>\n",
       "      <th>name</th>\n",
       "      <th>Age</th>\n",
       "      <th>Height</th>\n",
       "      <th>Weight</th>\n",
       "      <th>predictionBMI</th>\n",
       "    </tr>\n",
       "  </thead>\n",
       "  <tbody>\n",
       "    <tr>\n",
       "      <th>0</th>\n",
       "      <td>Krishan</td>\n",
       "      <td>30.0</td>\n",
       "      <td>68.0</td>\n",
       "      <td>157.63</td>\n",
       "      <td>23.867378</td>\n",
       "    </tr>\n",
       "  </tbody>\n",
       "</table>\n",
       "</div>"
      ],
      "text/plain": [
       "      name   Age  Height  Weight  predictionBMI\n",
       "0  Krishan  30.0    68.0  157.63      23.867378"
      ]
     },
     "execution_count": 20,
     "metadata": {},
     "output_type": "execute_result"
    }
   ],
   "source": [
    "new_data = [{'name' :'Krishan', 'Age': 30, 'Height': 68, 'Weight': 157.63}]\n",
    "predictBMI_real(new_data)"
   ]
  },
  {
   "cell_type": "code",
   "execution_count": null,
   "metadata": {},
   "outputs": [],
   "source": []
  }
 ],
 "metadata": {
  "kernelspec": {
   "display_name": "Python (aml)",
   "language": "python",
   "name": "aml"
  },
  "language_info": {
   "codemirror_mode": {
    "name": "ipython",
    "version": 3
   },
   "file_extension": ".py",
   "mimetype": "text/x-python",
   "name": "python",
   "nbconvert_exporter": "python",
   "pygments_lexer": "ipython3",
   "version": "3.7.7"
  }
 },
 "nbformat": 4,
 "nbformat_minor": 4
}
