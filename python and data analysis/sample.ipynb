{
 "cells": [
  {
   "cell_type": "markdown",
   "metadata": {},
   "source": [
    "# create a list of 50 random numbers"
   ]
  },
  {
   "cell_type": "code",
   "execution_count": 23,
   "metadata": {},
   "outputs": [
    {
     "output_type": "execute_result",
     "data": {
      "text/plain": "[550, 46, 818, 15, 402, 804, 689, 753, 0, 848]"
     },
     "metadata": {},
     "execution_count": 23
    }
   ],
   "source": [
    "import random\n",
    "arr = [random.randint(0,1000) for i in range(50)]\n",
    "arr[:10]"
   ]
  },
  {
   "cell_type": "markdown",
   "metadata": {},
   "source": [
    "# Calculate square root\n"
   ]
  },
  {
   "cell_type": "code",
   "execution_count": 24,
   "metadata": {
    "tags": []
   },
   "outputs": [
    {
     "output_type": "stream",
     "name": "stdout",
     "text": "5.75 µs ± 126 ns per loop (mean ± std. dev. of 7 runs, 100000 loops each)\n"
    }
   ],
   "source": [
    "import math\n",
    "%timeit [math.sqrt(a) for a in arr]"
   ]
  },
  {
   "cell_type": "markdown",
   "metadata": {},
   "source": [
    "# numpy \n",
    "1. Faster\n",
    "1. Easy to use\n",
    "2. Memory effecient\n",
    "3. Rich in mathematical functions\n",
    "4. Easy matrix operations"
   ]
  },
  {
   "cell_type": "code",
   "execution_count": 25,
   "metadata": {},
   "outputs": [
    {
     "output_type": "execute_result",
     "data": {
      "text/plain": "array([550,  46, 818,  15, 402, 804, 689, 753,   0, 848, 266, 743, 257,\n       712, 362, 260, 892, 535, 511,  15, 767, 137, 488, 204, 444, 893,\n       528, 242, 903, 515, 411, 944,  54, 211, 417, 877,   7, 870, 390,\n       923, 796, 591, 288, 794, 539, 141,  11, 843, 487, 344])"
     },
     "metadata": {},
     "execution_count": 25
    }
   ],
   "source": [
    "\n",
    "import numpy as np\n",
    "numpy_arr = np.array(arr)\n",
    "numpy_arr"
   ]
  },
  {
   "cell_type": "code",
   "execution_count": 26,
   "metadata": {
    "tags": []
   },
   "outputs": [
    {
     "output_type": "stream",
     "name": "stdout",
     "text": "813 ns ± 18.1 ns per loop (mean ± std. dev. of 7 runs, 1000000 loops each)\n"
    }
   ],
   "source": [
    "%timeit np.sqrt(numpy_arr)"
   ]
  },
  {
   "cell_type": "markdown",
   "metadata": {},
   "source": [
    "## Matrix operations"
   ]
  },
  {
   "cell_type": "code",
   "execution_count": 29,
   "metadata": {},
   "outputs": [
    {
     "output_type": "execute_result",
     "data": {
      "text/plain": "array([[65, 14, 76],\n       [89, 32,  5]])"
     },
     "metadata": {},
     "execution_count": 29
    }
   ],
   "source": [
    "matrix_2d = np.random.randint(0,100,(2,3))\n",
    "matrix_2d"
   ]
  },
  {
   "cell_type": "code",
   "execution_count": 32,
   "metadata": {},
   "outputs": [
    {
     "output_type": "execute_result",
     "data": {
      "text/plain": "array([154,  46,  81])"
     },
     "metadata": {},
     "execution_count": 32
    }
   ],
   "source": [
    "matrix_2d.sum(axis = 0)"
   ]
  },
  {
   "cell_type": "code",
   "execution_count": null,
   "metadata": {},
   "outputs": [],
   "source": []
  }
 ],
 "metadata": {
  "language_info": {
   "codemirror_mode": {
    "name": "ipython",
    "version": 3
   },
   "file_extension": ".py",
   "mimetype": "text/x-python",
   "name": "python",
   "nbconvert_exporter": "python",
   "pygments_lexer": "ipython3",
   "version": 3
  },
  "orig_nbformat": 2,
  "kernelspec": {
   "name": "aml",
   "display_name": "Python (aml)"
  }
 },
 "nbformat": 4,
 "nbformat_minor": 2
}