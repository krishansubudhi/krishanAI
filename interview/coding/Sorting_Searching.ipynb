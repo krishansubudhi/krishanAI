{
 "cells": [
  {
   "cell_type": "markdown",
   "id": "e76a4c59",
   "metadata": {},
   "source": [
    "# Quick sort\n",
    "\n",
    "https://www.geeksforgeeks.org/quick-sort/\n",
    "\n",
    "QuickSort is a Divide and Conquer algorithm. It picks an element as pivot and partitions the given array around the picked pivot. There are many different versions of quickSort that pick pivot in different ways. \n",
    "\n",
    "1. Always pick first element as pivot.\n",
    "2. Always pick last element as pivot (implemented below)\n",
    "3. Pick a random element as pivot.\n",
    "4. Pick median as pivot.\n",
    "\n",
    "The key process in quickSort is partition(). Target of partitions is, given an array and an element x of array as pivot, put x at its correct position in sorted array and put all smaller elements (smaller than x) before x, and put all greater elements (greater than x) after x. All this should be done in linear time.\n",
    "\n",
    "\n",
    "\n",
    "    3,1,4,1,2\n",
    "\n",
    "    parition pivot_index = 4\n",
    "\n",
    "    1,1,2,3,4\n",
    "    pivot index = 2\n",
    "    \n",
    "    3, 1 ----> partition: 1,   3 pivot index = 0\n",
    "    1, 2 ----> partition: 1,    2 pivot index = 1\n",
    "\n",
    "\n",
    "Time complexity: O(nlogn) average and O(n^2) worst\n",
    "\n",
    "Space complexity: O(1)"
   ]
  },
  {
   "cell_type": "code",
   "execution_count": 7,
   "id": "e3ca8843",
   "metadata": {},
   "outputs": [],
   "source": [
    "class QuickSort():\n",
    "    def __call__(self, arr):\n",
    "        self.sort(arr, 0, len(arr)-1)\n",
    "        return arr\n",
    "    \n",
    "    def sort(self,arr,low, high):#0,1\n",
    "        if low < high:\n",
    "            pivot_index = self.parition(arr,low, high)\n",
    "            self.sort(arr, low, pivot_index-1)\n",
    "            self.sort(arr, pivot_index+1, high)\n",
    "\n",
    "    def parition(self,arr,low, high):\n",
    "        pivot_index = high\n",
    "        i = low\n",
    "        for j in range(low, high):\n",
    "            if a[j] < arr[pivot_index]:\n",
    "                a[i] , a[j]= a[j], a[i]\n",
    "                i += 1\n",
    "        a[i],a[pivot_index] = a[pivot_index], a[i]\n",
    "        return i\n"
   ]
  },
  {
   "cell_type": "code",
   "execution_count": 8,
   "id": "a03b7899",
   "metadata": {},
   "outputs": [
    {
     "name": "stdout",
     "output_type": "stream",
     "text": [
      "[485 808 999 932 267 183 358 614 642 890]\n",
      "215 ms ± 28.3 ms per loop (mean ± std. dev. of 7 runs, 10 loops each)\n"
     ]
    }
   ],
   "source": [
    "import numpy as np\n",
    "a = np.random.randint(0,1000, size = (1000,))\n",
    "print(a[:10])\n",
    "%timeit QuickSort()(a)"
   ]
  },
  {
   "cell_type": "markdown",
   "id": "c642c6a3",
   "metadata": {},
   "source": [
    "# MergeSort"
   ]
  },
  {
   "cell_type": "markdown",
   "id": "e04aedbe",
   "metadata": {},
   "source": [
    "1. divide the array\n",
    "2. Sort both the arrays\n",
    "3. Merge\n",
    "\n",
    "O(nlogn) time O(n) space"
   ]
  },
  {
   "cell_type": "code",
   "execution_count": 9,
   "id": "8d10ca02",
   "metadata": {},
   "outputs": [],
   "source": [
    "class MergeSort(QuickSort):\n",
    "    def sort(self, arr, low, high):\n",
    "        if low<high:\n",
    "            mid = low + (high-low+1)//2\n",
    "            self.sort(arr, low, mid-1)\n",
    "            self.sort(arr, mid, high)\n",
    "            self.merge(arr, low, high, mid)\n",
    "    def merge(self, arr , low, high, mid):\n",
    "        left = arr[low:mid]#[1]\n",
    "        right = arr[mid:high+1]#[2]\n",
    "        ri = 0\n",
    "        li = 0\n",
    "        ai = low\n",
    "        while li < len(left):\n",
    "            if ri == len(right) or left[li]<right[ri]:\n",
    "                arr[ai] = left[li]\n",
    "                li += 1\n",
    "            else:\n",
    "                arr[ai] = right[ri]\n",
    "                ri += 1\n",
    "            ai += 1            \n",
    "        "
   ]
  },
  {
   "cell_type": "code",
   "execution_count": 10,
   "id": "4db605b5",
   "metadata": {},
   "outputs": [
    {
     "name": "stdout",
     "output_type": "stream",
     "text": [
      "[ 0  5  6  7  7  7  8  8  9 13]\n",
      "5.08 ms ± 607 µs per loop (mean ± std. dev. of 7 runs, 100 loops each)\n"
     ]
    }
   ],
   "source": [
    "print(a[:10])\n",
    "%timeit MergeSort()(a)"
   ]
  },
  {
   "cell_type": "markdown",
   "id": "362bd5ce",
   "metadata": {},
   "source": [
    "# BinarySearch"
   ]
  },
  {
   "cell_type": "code",
   "execution_count": 36,
   "id": "f54245c9",
   "metadata": {},
   "outputs": [],
   "source": [
    "\n",
    "def binary_search(arr, low, high, elem):\n",
    "    # assume arr is sorted\n",
    "    print('searching')\n",
    "    if low > high:\n",
    "        return -1\n",
    "    \n",
    "    mid = low + (high-low+1)//2 # right preference\n",
    "\n",
    "    if arr[mid] == elem:\n",
    "        return mid\n",
    "    elif arr[mid]> elem:\n",
    "        return binary_search(arr, low, mid-1, elem)\n",
    "    else:\n",
    "        return binary_search(arr, mid+1, high, elem)"
   ]
  },
  {
   "cell_type": "code",
   "execution_count": 43,
   "id": "5545a497",
   "metadata": {},
   "outputs": [
    {
     "name": "stdout",
     "output_type": "stream",
     "text": [
      "[0, 1, 2, 3, 4, 5, 6, 7, 8, 9, 10, 11, 12, 13, 14, 15, 16, 17, 18, 19, 20, 21, 22, 23, 24, 25, 26, 27, 28, 29, 30, 31, 32, 33, 34, 35, 36, 37, 38, 39, 40, 41, 42, 43, 44, 45, 46, 47, 48, 49, 50, 51, 52, 53, 54, 55, 56, 57, 58, 59, 60, 61, 62, 63, 64, 65, 66, 67, 68, 69, 70, 71, 72, 73, 74, 75, 76, 77, 78, 79, 80, 81, 82, 83, 84, 85, 86, 87, 88, 89, 90, 91, 92, 93, 94, 95, 96, 97, 98, 99]\n",
      "searching\n",
      "searching\n",
      "searching\n",
      "searching\n"
     ]
    },
    {
     "data": {
      "text/plain": [
       "19"
      ]
     },
     "execution_count": 43,
     "metadata": {},
     "output_type": "execute_result"
    }
   ],
   "source": [
    "a = list(range(100))\n",
    "print(a)\n",
    "binary_search(a, 0, len(a)-1, 19)"
   ]
  }
 ],
 "metadata": {
  "kernelspec": {
   "display_name": "Python 3",
   "language": "python",
   "name": "python3"
  },
  "language_info": {
   "codemirror_mode": {
    "name": "ipython",
    "version": 3
   },
   "file_extension": ".py",
   "mimetype": "text/x-python",
   "name": "python",
   "nbconvert_exporter": "python",
   "pygments_lexer": "ipython3",
   "version": "3.9.0"
  }
 },
 "nbformat": 4,
 "nbformat_minor": 5
}
