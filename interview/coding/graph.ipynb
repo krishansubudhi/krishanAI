{
 "cells": [
  {
   "cell_type": "markdown",
   "id": "a273f5ea",
   "metadata": {},
   "source": [
    "# Disjoint set\n",
    "\n",
    "https://leetcode.com/explore/learn/card/graph/618/disjoint-set/3881/\n",
    "\n",
    "Disjoint sets help find common roots between vertices. \n",
    "Mostly used to check if there is a path between two vertices.\n",
    "\n"
   ]
  },
  {
   "cell_type": "code",
   "execution_count": 12,
   "id": "32ee8875",
   "metadata": {},
   "outputs": [],
   "source": [
    "from typing import List\n",
    "class Solution:\n",
    "    def __init__(self, n: int, edges: List[List[int]]):\n",
    "        self.n = n\n",
    "        self.create_disjoint_sets(n,edges)\n",
    "        print('roots = ', self.roots)\n",
    "    \n",
    "    def validPath(self,  start: int, end: int) -> bool:\n",
    "        if self.findroot(start) == self.findroot(end):\n",
    "            return True\n",
    "        return False\n",
    "        \n",
    "    def findroot(self, vert):\n",
    "        # Find root until it itself is the root\n",
    "        root = self.roots[vert]\n",
    "        while vert != root:\n",
    "            vert = root\n",
    "            root = self.roots[vert]\n",
    "        return root\n",
    "    \n",
    "    def create_disjoint_sets(self, n, edges):\n",
    "        self.roots = [i for i in range(n)]\n",
    "        for u,v in edges:\n",
    "            # union operation. Make root of v to point to root of u\n",
    "            rootu = self.findroot(u)\n",
    "            rootv = self.findroot(v)\n",
    "            self.roots[rootv] = rootu\n",
    "        return self.roots"
   ]
  },
  {
   "cell_type": "code",
   "execution_count": 14,
   "id": "5f806b7f",
   "metadata": {},
   "outputs": [
    {
     "name": "stdout",
     "output_type": "stream",
     "text": [
      "roots =  [0, 0, 0, 3]\n"
     ]
    },
    {
     "data": {
      "text/plain": [
       "True"
      ]
     },
     "execution_count": 14,
     "metadata": {},
     "output_type": "execute_result"
    }
   ],
   "source": [
    "# https://leetcode.com/explore/learn/card/graph/619/depth-first-search-in-graph/3893/\n",
    "n = 4\n",
    "edges = [[0,1],[1,2],[2,0]]\n",
    "start = 0\n",
    "end = 2\n",
    "\n",
    "Solution(n, edges).validPath( start, end)"
   ]
  },
  {
   "cell_type": "markdown",
   "id": "ac1e5213",
   "metadata": {},
   "source": [
    "# Depth First Search\n",
    "https://www.geeksforgeeks.org/depth-first-search-or-dfs-for-a-graph/\n",
    "\n",
    "https://leetcode.com/explore/learn/card/graph/619/depth-first-search-in-graph/3882/"
   ]
  },
  {
   "cell_type": "code",
   "execution_count": 70,
   "id": "1a39634b",
   "metadata": {},
   "outputs": [],
   "source": [
    "from collections import defaultdict\n",
    "class Graph:\n",
    "    def __init__(self, n, edges = []):\n",
    "        self.edges = defaultdict(set)\n",
    "        self.n = n\n",
    "        for edge in edges:\n",
    "            self.add_edge(edge)\n",
    "        \n",
    "        self.visited = set()\n",
    "        \n",
    "    \n",
    "    def add_edge(self,edge):\n",
    "        self.edges[edge[0]].add(edge[1])\n",
    "#         self.edges[edge[1]].add(edge[0]) # for bidirectional graphs\n",
    "        \n",
    "    def dfs_from_node(self, node):\n",
    "        self._dfs(node)\n",
    "        self.visited = set()\n",
    "    \n",
    "    def dfs(self):\n",
    "        for node in range(self.n):\n",
    "            self._dfs(node)\n",
    "        self.visited = set()\n",
    "\n",
    "    def _dfs(self, node):\n",
    "        if node not in self.visited:\n",
    "            self.visit(node)\n",
    "            for edge in self.edges[node]:\n",
    "                self._dfs(edge)\n",
    "    \n",
    "    def visit(self, node):\n",
    "        self.visited.add(node)\n",
    "        print(node)"
   ]
  },
  {
   "cell_type": "code",
   "execution_count": 71,
   "id": "27e87e17",
   "metadata": {},
   "outputs": [
    {
     "data": {
      "text/plain": [
       "defaultdict(set, {0: {1, 2}, 1: {2}, 2: {0, 3}, 3: {3}})"
      ]
     },
     "execution_count": 71,
     "metadata": {},
     "output_type": "execute_result"
    }
   ],
   "source": [
    "g =Graph(n = 5, edges = [(0,1), (0,2), (1,2), (2,0), (2,3), (3,3)] )\n",
    "g.edges"
   ]
  },
  {
   "cell_type": "code",
   "execution_count": 72,
   "id": "ba5e2a1d",
   "metadata": {},
   "outputs": [
    {
     "name": "stdout",
     "output_type": "stream",
     "text": [
      "1\n",
      "2\n",
      "0\n",
      "3\n"
     ]
    }
   ],
   "source": [
    "g.dfs_from_node(1) #Output: DFS from vertex 1 : 1 2 0 3 "
   ]
  },
  {
   "cell_type": "code",
   "execution_count": 73,
   "id": "e54e7edf",
   "metadata": {},
   "outputs": [
    {
     "name": "stdout",
     "output_type": "stream",
     "text": [
      "0\n",
      "1\n",
      "2\n",
      "3\n",
      "4\n"
     ]
    }
   ],
   "source": [
    "g.dfs()"
   ]
  },
  {
   "cell_type": "markdown",
   "id": "23e75f84",
   "metadata": {},
   "source": [
    "# Breadth First Search"
   ]
  },
  {
   "cell_type": "code",
   "execution_count": 74,
   "id": "3fbc0829",
   "metadata": {},
   "outputs": [],
   "source": [
    "class GraphBFS(Graph):\n",
    "    def bfs(self):\n",
    "        for node in range(self.n):\n",
    "            self._bfs(node)\n",
    "        self.visited = set()\n",
    "\n",
    "\n",
    "    def bfs_from_node(self, node):\n",
    "        self._bfs(node)\n",
    "        self.added = set()\n",
    "    \n",
    "    def _bfs(self, node):\n",
    "        queue = []\n",
    "        self._add_to_queue(node, queue)\n",
    "        while len(queue) > 0:\n",
    "            node = queue.pop(0)\n",
    "            self.visit(node)\n",
    "            for edge in self.edges[node]:\n",
    "                self._add_to_queue(edge, queue)\n",
    "            \n",
    "    def _add_to_queue(self, node, queue):\n",
    "        if node not in self.visited:\n",
    "            queue.append(node)\n",
    "        self.visited.add(node)\n",
    "        \n",
    "    def visit(self, node):\n",
    "        print(node)"
   ]
  },
  {
   "cell_type": "code",
   "execution_count": 75,
   "id": "79b70440",
   "metadata": {},
   "outputs": [
    {
     "data": {
      "text/plain": [
       "defaultdict(set, {0: {1, 2}, 1: {2}, 2: {0, 3}, 3: {3}})"
      ]
     },
     "execution_count": 75,
     "metadata": {},
     "output_type": "execute_result"
    }
   ],
   "source": [
    "g =GraphBFS(n = 4, edges = [(0,1), (0,2), (1,2), (2,0), (2,3), (3,3)] )\n",
    "g.edges"
   ]
  },
  {
   "cell_type": "code",
   "execution_count": 76,
   "id": "070c755d",
   "metadata": {},
   "outputs": [
    {
     "name": "stdout",
     "output_type": "stream",
     "text": [
      "2\n",
      "0\n",
      "3\n",
      "1\n"
     ]
    }
   ],
   "source": [
    "g.bfs_from_node(2) #2 0 3 1"
   ]
  },
  {
   "cell_type": "code",
   "execution_count": null,
   "id": "590182e5",
   "metadata": {},
   "outputs": [],
   "source": []
  }
 ],
 "metadata": {
  "kernelspec": {
   "display_name": "Python 3",
   "language": "python",
   "name": "python3"
  },
  "language_info": {
   "codemirror_mode": {
    "name": "ipython",
    "version": 3
   },
   "file_extension": ".py",
   "mimetype": "text/x-python",
   "name": "python",
   "nbconvert_exporter": "python",
   "pygments_lexer": "ipython3",
   "version": "3.9.0"
  }
 },
 "nbformat": 4,
 "nbformat_minor": 5
}
